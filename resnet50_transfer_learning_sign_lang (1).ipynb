{
  "cells": [
    {
      "cell_type": "code",
      "execution_count": 32,
      "metadata": {
        "id": "7H0le6IAzpOy"
      },
      "outputs": [],
      "source": [
        "import pandas as pd\n",
        "import numpy as np\n",
        "import tensorflow as tf"
      ]
    },
    {
      "cell_type": "code",
      "execution_count": 33,
      "metadata": {
        "id": "pXrwTFyY1I6M"
      },
      "outputs": [],
      "source": [
        "# Data\n",
        "train_csv = '/content/sign_mnist_train.csv'\n",
        "test_csv = '/content/sign_mnist_test.csv'\n",
        "\n",
        "categories = 24\n",
        "\n",
        "# Settings\n",
        "input_tensor = tf.keras.Input(shape=(28, 28, 3))\n",
        "\n",
        "# Train settings\n",
        "batch_size=128 # was 32\n",
        "epochs=50"
      ]
    },
    {
      "cell_type": "markdown",
      "metadata": {
        "id": "xLDaLX_D0ckG"
      },
      "source": [
        "### Load Data"
      ]
    },
    {
      "cell_type": "code",
      "execution_count": 34,
      "metadata": {
        "id": "OPdipIacrwU4"
      },
      "outputs": [],
      "source": [
        "# Load with pandas (more simple)\n",
        "train_df = pd.read_csv(train_csv)\n",
        "test_df = pd.read_csv(test_csv)"
      ]
    },
    {
      "cell_type": "code",
      "execution_count": 35,
      "metadata": {
        "id": "vsbc2yucr_2N"
      },
      "outputs": [],
      "source": [
        "# Select labels\n",
        "y_train = train_df['label']\n",
        "y_test = test_df['label']\n",
        "del train_df['label']\n",
        "del test_df['label']"
      ]
    },
    {
      "cell_type": "code",
      "execution_count": 36,
      "metadata": {
        "id": "DJn7nB2FsAkg"
      },
      "outputs": [],
      "source": [
        "# Select features\n",
        "x_train = train_df.values\n",
        "x_test = test_df.values"
      ]
    },
    {
      "cell_type": "code",
      "execution_count": 37,
      "metadata": {
        "id": "RvqL8ygnsCVX"
      },
      "outputs": [],
      "source": [
        "# Reshape features to images\n",
        "x_train = x_train.reshape(-1,28,28,1)\n",
        "x_test = x_test.reshape(-1,28,28,1)"
      ]
    },
    {
      "cell_type": "code",
      "execution_count": 38,
      "metadata": {
        "id": "vwmWusVvvQxs"
      },
      "outputs": [],
      "source": [
        "x_train = np.concatenate([x_train] * 3, axis=-1)\n",
        "x_test = np.concatenate([x_test] * 3, axis=-1)"
      ]
    },
    {
      "cell_type": "code",
      "execution_count": 39,
      "metadata": {
        "colab": {
          "base_uri": "https://localhost:8080/"
        },
        "id": "n6WDbl4VCBVL",
        "outputId": "ebf14857-48c0-44ce-ef04-c7379619bb12"
      },
      "outputs": [
        {
          "output_type": "stream",
          "name": "stdout",
          "text": [
            "(27455, 28, 28, 3)\n",
            "(7172, 28, 28, 3)\n"
          ]
        }
      ],
      "source": [
        "print(x_train.shape)\n",
        "print(x_test.shape)"
      ]
    },
    {
      "cell_type": "markdown",
      "metadata": {
        "id": "rNTaQrqa3ZeK"
      },
      "source": [
        "### Pre-process data"
      ]
    },
    {
      "cell_type": "code",
      "execution_count": 40,
      "metadata": {
        "id": "C2SnKvIa8NtU"
      },
      "outputs": [],
      "source": [
        "from sklearn.preprocessing import LabelBinarizer\n",
        "\n",
        "# Put target col in categorical format\n",
        "label_binarizer = LabelBinarizer()\n",
        "y_train = label_binarizer.fit_transform(y_train)\n",
        "y_test = label_binarizer.fit_transform(y_test)"
      ]
    },
    {
      "cell_type": "code",
      "source": [
        "def preprocess_data(image):\n",
        "  image_p = tf.keras.applications.resnet50.preprocess_input(image)\n",
        "  return image_p"
      ],
      "metadata": {
        "id": "l8TOgyK3NCGK"
      },
      "execution_count": 41,
      "outputs": []
    },
    {
      "cell_type": "code",
      "source": [
        "x_train = preprocess_data(x_train)\n",
        "x_test = preprocess_data(x_test)"
      ],
      "metadata": {
        "id": "BSopcirZNCoM"
      },
      "execution_count": 42,
      "outputs": []
    },
    {
      "cell_type": "markdown",
      "source": [
        "### Data augmentation preparation"
      ],
      "metadata": {
        "id": "FTnwDRh7UJPj"
      }
    },
    {
      "cell_type": "code",
      "source": [
        "from keras.preprocessing.image import ImageDataGenerator\n",
        "\n",
        "#Data augmentation\n",
        "datagen = ImageDataGenerator(\n",
        "        featurewise_center=False,\n",
        "        samplewise_center=False,\n",
        "        featurewise_std_normalization=False,\n",
        "        samplewise_std_normalization=False,\n",
        "        zca_whitening=False,\n",
        "        rotation_range=10,\n",
        "        zoom_range = 0.1,\n",
        "        width_shift_range=0.1,\n",
        "        height_shift_range=0.1,\n",
        "        horizontal_flip=False,\n",
        "        vertical_flip=False,\n",
        "        validation_split=0.2)\n",
        "\n",
        "datagen.fit(x_train)"
      ],
      "metadata": {
        "id": "roBcNMkVULkA"
      },
      "execution_count": 43,
      "outputs": []
    },
    {
      "cell_type": "markdown",
      "source": [
        "### Learning rate improvements"
      ],
      "metadata": {
        "id": "pD6NKgE4LtvW"
      }
    },
    {
      "cell_type": "code",
      "source": [
        "from keras.callbacks import ReduceLROnPlateau\n",
        "learning_rate_reduction = ReduceLROnPlateau(monitor='val_accuracy', patience = 2, verbose=1,factor=0.5, min_lr=0.00001)"
      ],
      "metadata": {
        "id": "aD9wFiKNLkcB"
      },
      "execution_count": 44,
      "outputs": []
    },
    {
      "cell_type": "markdown",
      "metadata": {
        "id": "tBTJX2Ng0ZI_"
      },
      "source": [
        "### Load Model"
      ]
    },
    {
      "cell_type": "code",
      "execution_count": 45,
      "metadata": {
        "id": "RF3ZJYBl0euO"
      },
      "outputs": [],
      "source": [
        "feature_extractor = tf.keras.applications.ResNet50(\n",
        "    include_top=False,\n",
        "    weights='imagenet',\n",
        "    input_tensor=input_tensor\n",
        ")"
      ]
    },
    {
      "cell_type": "code",
      "execution_count": 46,
      "metadata": {
        "id": "NPn7L3j6BY-M"
      },
      "outputs": [],
      "source": [
        "# Freeze layers exept last block\n",
        "for layer in feature_extractor.layers[:143]:\n",
        "  layer.trainable = False"
      ]
    },
    {
      "cell_type": "markdown",
      "metadata": {
        "id": "ymIGpl5q2e6f"
      },
      "source": [
        "### Make Model"
      ]
    },
    {
      "cell_type": "code",
      "execution_count": 47,
      "metadata": {
        "id": "4MUgrSthDKly"
      },
      "outputs": [],
      "source": [
        "model = tf.keras.models.Sequential()"
      ]
    },
    {
      "cell_type": "code",
      "execution_count": 48,
      "metadata": {
        "id": "5ROhryUo2hYP"
      },
      "outputs": [],
      "source": [
        "# Feature extraction\n",
        "model.add(feature_extractor)\n",
        "\n",
        "# Classification\n",
        "model.add(tf.keras.layers.Flatten())\n",
        "model.add(tf.keras.layers.Dense(categories, activation='softmax'))"
      ]
    },
    {
      "cell_type": "markdown",
      "metadata": {
        "id": "Ox2ejT175ACS"
      },
      "source": [
        "### Compile and Fit"
      ]
    },
    {
      "cell_type": "code",
      "execution_count": 49,
      "metadata": {
        "colab": {
          "base_uri": "https://localhost:8080/"
        },
        "id": "tpsPLRth5CxX",
        "outputId": "82ed17ed-22f2-4547-deb3-d0ad02997476"
      },
      "outputs": [
        {
          "output_type": "stream",
          "name": "stdout",
          "text": [
            "Model: \"sequential_1\"\n",
            "_________________________________________________________________\n",
            " Layer (type)                Output Shape              Param #   \n",
            "=================================================================\n",
            " resnet50 (Functional)       (None, 1, 1, 2048)        23587712  \n",
            "                                                                 \n",
            " flatten_1 (Flatten)         (None, 2048)              0         \n",
            "                                                                 \n",
            " dense_1 (Dense)             (None, 24)                49176     \n",
            "                                                                 \n",
            "=================================================================\n",
            "Total params: 23636888 (90.17 MB)\n",
            "Trainable params: 15025176 (57.32 MB)\n",
            "Non-trainable params: 8611712 (32.85 MB)\n",
            "_________________________________________________________________\n"
          ]
        }
      ],
      "source": [
        "model.compile(\n",
        "    loss='categorical_crossentropy',\n",
        "    optimizer=tf.keras.optimizers.RMSprop(learning_rate=2e-5),\n",
        "    metrics=['accuracy'])\n",
        "\n",
        "model.summary()"
      ]
    },
    {
      "cell_type": "code",
      "execution_count": 50,
      "metadata": {
        "id": "JXAjHyt21_tg"
      },
      "outputs": [],
      "source": [
        "save_model = tf.keras.callbacks.ModelCheckpoint(\n",
        "    filepath='model.h5',\n",
        "    monitor='val_accuracy',\n",
        "    mode='max',\n",
        "    save_best_only=True,\n",
        "    verbose=1\n",
        ")"
      ]
    },
    {
      "cell_type": "code",
      "execution_count": null,
      "metadata": {
        "colab": {
          "base_uri": "https://localhost:8080/"
        },
        "id": "3gnlRPJd5ixD",
        "outputId": "950bc8d9-9cca-4d7c-bf87-4b6c06aafa1e"
      },
      "outputs": [
        {
          "output_type": "stream",
          "name": "stdout",
          "text": [
            "Epoch 1/50\n",
            "172/172 [==============================] - ETA: 0s - loss: 2.3305 - accuracy: 0.3742\n",
            "Epoch 1: val_accuracy improved from -inf to 0.49007, saving model to model.h5\n"
          ]
        },
        {
          "output_type": "stream",
          "name": "stderr",
          "text": [
            "/usr/local/lib/python3.10/dist-packages/keras/src/engine/training.py:3079: UserWarning: You are saving your model as an HDF5 file via `model.save()`. This file format is considered legacy. We recommend using instead the native Keras format, e.g. `model.save('my_model.keras')`.\n",
            "  saving_api.save_model(\n"
          ]
        },
        {
          "output_type": "stream",
          "name": "stdout",
          "text": [
            "\b\b\b\b\b\b\b\b\b\b\b\b\b\b\b\b\b\b\b\b\b\b\b\b\b\b\b\b\b\b\b\b\b\b\b\b\b\b\b\b\b\b\b\b\b\b\b\b\b\b\b\b\b\b\b\b\b\b\b\b\b\b\b\b\b\b\b\b\b\b\b\b\b\b\b\b\b\b\b\b\b\b\b\b\r172/172 [==============================] - 704s 4s/step - loss: 2.3305 - accuracy: 0.3742 - val_loss: 1.8926 - val_accuracy: 0.4901 - lr: 2.0000e-05\n",
            "Epoch 2/50\n",
            "168/172 [============================>.] - ETA: 15s - loss: 0.9622 - accuracy: 0.7202"
          ]
        }
      ],
      "source": [
        "run_hist = model.fit(datagen.flow(x_train, y_train, batch_size=batch_size,\n",
        "                                  subset='training'),\n",
        "                     validation_data = datagen.flow(x_train, y_train,\n",
        "                                                  batch_size=batch_size,\n",
        "                                                  subset='validation'),\n",
        "                     epochs = epochs,\n",
        "                     callbacks=[save_model, learning_rate_reduction])"
      ]
    },
    {
      "cell_type": "code",
      "execution_count": null,
      "metadata": {
        "id": "nHuzxol46ERL"
      },
      "outputs": [],
      "source": [
        "import matplotlib.pyplot as plt\n",
        "\n",
        "# Plot accuracy and loss\n",
        "plt.plot(run_hist.history['accuracy'], label='train')\n",
        "plt.plot(run_hist.history['val_accuracy'], label='test')\n",
        "plt.plot(run_hist.history['loss'], label='loss')\n",
        "plt.xlabel('Epoch')\n",
        "plt.ylabel('Accuracy')\n",
        "plt.legend()\n",
        "plt.show()"
      ]
    },
    {
      "cell_type": "code",
      "source": [
        "print(\"Accuracy of the model is - \" , model.evaluate(x_test,y_test)[1]*100 , \"%\")"
      ],
      "metadata": {
        "id": "DsTfAbGHRInI"
      },
      "execution_count": null,
      "outputs": []
    },
    {
      "cell_type": "code",
      "source": [
        "from sklearn.metrics import classification_report\n",
        "y_pred = model.predict(x_test)\n",
        "print(classification_report(y_test, y_pred))"
      ],
      "metadata": {
        "id": "t9q8OEr5N-YK"
      },
      "execution_count": null,
      "outputs": []
    },
    {
      "cell_type": "code",
      "source": [
        "from sklearn.metrics import cohen_kappa_score\n",
        "kappa = cohen_kappa_score(y_test, y_pred)\n",
        "print(f\"Kappa coefficient : {kappa}\")"
      ],
      "metadata": {
        "id": "cdeGErklXzVm"
      },
      "execution_count": null,
      "outputs": []
    }
  ],
  "metadata": {
    "colab": {
      "provenance": []
    },
    "kernelspec": {
      "display_name": "Python 3",
      "name": "python3"
    },
    "language_info": {
      "name": "python"
    }
  },
  "nbformat": 4,
  "nbformat_minor": 0
}