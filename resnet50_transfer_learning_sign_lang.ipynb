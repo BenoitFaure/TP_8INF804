{
  "nbformat": 4,
  "nbformat_minor": 0,
  "metadata": {
    "colab": {
      "provenance": [],
      "gpuType": "T4"
    },
    "kernelspec": {
      "name": "python3",
      "display_name": "Python 3"
    },
    "language_info": {
      "name": "python"
    },
    "accelerator": "GPU"
  },
  "cells": [
    {
      "cell_type": "code",
      "execution_count": 1,
      "metadata": {
        "id": "7H0le6IAzpOy"
      },
      "outputs": [],
      "source": [
        "import pandas as pd\n",
        "import numpy as np\n",
        "\n",
        "import tensorflow as tf\n",
        "from tensorflow.keras import datasets, layers, models, losses, Model"
      ]
    },
    {
      "cell_type": "code",
      "source": [
        "# Data\n",
        "train_csv = '/content/sign_mnist_train.csv'\n",
        "test_csv = '/content/sign_mnist_test.csv'\n",
        "\n",
        "categories = 26\n",
        "\n",
        "# Settings\n",
        "input_tensor = tf.keras.Input(shape=(28, 28, 3))\n",
        "\n",
        "# Train settings\n",
        "batch_size=32\n",
        "epochs=50"
      ],
      "metadata": {
        "id": "pXrwTFyY1I6M"
      },
      "execution_count": 2,
      "outputs": []
    },
    {
      "cell_type": "markdown",
      "source": [
        "### Load Data"
      ],
      "metadata": {
        "id": "xLDaLX_D0ckG"
      }
    },
    {
      "cell_type": "code",
      "source": [
        "# Load with pandas (more simple)\n",
        "train_df = pd.read_csv(train_csv)\n",
        "test_df = pd.read_csv(test_csv)"
      ],
      "metadata": {
        "id": "OPdipIacrwU4"
      },
      "execution_count": 3,
      "outputs": []
    },
    {
      "cell_type": "code",
      "source": [
        "# Select labels\n",
        "y_train = train_df['label']\n",
        "y_test = test_df['label']\n",
        "del train_df['label']\n",
        "del test_df['label']"
      ],
      "metadata": {
        "id": "vsbc2yucr_2N"
      },
      "execution_count": 4,
      "outputs": []
    },
    {
      "cell_type": "code",
      "source": [
        "# Select features\n",
        "x_train = train_df.values\n",
        "x_test = test_df.values"
      ],
      "metadata": {
        "id": "DJn7nB2FsAkg"
      },
      "execution_count": 5,
      "outputs": []
    },
    {
      "cell_type": "code",
      "source": [
        "# Reshape features to images\n",
        "x_train = x_train.reshape(-1,28,28,1)\n",
        "x_test = x_test.reshape(-1,28,28,1)"
      ],
      "metadata": {
        "id": "RvqL8ygnsCVX"
      },
      "execution_count": 6,
      "outputs": []
    },
    {
      "cell_type": "code",
      "source": [
        "x_train = np.concatenate([x_train] * 3, axis=-1)\n",
        "x_test = np.concatenate([x_test] * 3, axis=-1)"
      ],
      "metadata": {
        "id": "vwmWusVvvQxs"
      },
      "execution_count": 7,
      "outputs": []
    },
    {
      "cell_type": "code",
      "source": [
        "# train_dataset = tf.data.experimental.make_csv_dataset(\n",
        "#     train_csv,\n",
        "#     batch_size,\n",
        "#     label_name='label'\n",
        "# )"
      ],
      "metadata": {
        "id": "T7DCuCe6UMJ3"
      },
      "execution_count": 8,
      "outputs": []
    },
    {
      "cell_type": "code",
      "source": [
        "# def preprocess_data(feats, label):\n",
        "#   print(feats.values())\n",
        "#   images = tf.concat(feats.values(), 1)\n",
        "#   print(images)\n",
        "#   return images, label\n",
        "\n",
        "# train_dataset = train_dataset.map(preprocess_data)"
      ],
      "metadata": {
        "id": "QGrSF5zGU5bV"
      },
      "execution_count": 9,
      "outputs": []
    },
    {
      "cell_type": "code",
      "source": [
        "# (x_train, y_train), (x_test, y_test) = tf.keras.datasets.cifar10.load_data()"
      ],
      "metadata": {
        "id": "9LbcArNg3I5x"
      },
      "execution_count": 10,
      "outputs": []
    },
    {
      "cell_type": "code",
      "source": [
        "print(x_train.shape)\n",
        "print(x_test.shape)"
      ],
      "metadata": {
        "colab": {
          "base_uri": "https://localhost:8080/"
        },
        "id": "n6WDbl4VCBVL",
        "outputId": "3cdc29d4-49e7-4ff0-8588-f553c93b544e"
      },
      "execution_count": 11,
      "outputs": [
        {
          "output_type": "stream",
          "name": "stdout",
          "text": [
            "(27455, 28, 28, 3)\n",
            "(7172, 28, 28, 3)\n"
          ]
        }
      ]
    },
    {
      "cell_type": "markdown",
      "source": [
        "### Pre-process data"
      ],
      "metadata": {
        "id": "rNTaQrqa3ZeK"
      }
    },
    {
      "cell_type": "code",
      "source": [
        "# As categorical\n",
        "y_train = tf.keras.utils.to_categorical(y_train, categories)\n",
        "y_test = tf.keras.utils.to_categorical(y_test, categories)"
      ],
      "metadata": {
        "id": "C2SnKvIa8NtU"
      },
      "execution_count": 12,
      "outputs": []
    },
    {
      "cell_type": "code",
      "source": [
        "# Load as tf dataset\n",
        "train_dataset = tf.data.Dataset.from_tensor_slices((x_train, y_train))\n",
        "test_dataset = tf.data.Dataset.from_tensor_slices((x_test, y_test))"
      ],
      "metadata": {
        "id": "DE968Woa64O9"
      },
      "execution_count": 13,
      "outputs": []
    },
    {
      "cell_type": "code",
      "source": [
        "def preprocess_data(image, label):\n",
        "  image_p = tf.keras.applications.resnet50.preprocess_input(image)\n",
        "  # label_p = tf.keras.utils.to_categorical(label, 10)\n",
        "  return image_p, label"
      ],
      "metadata": {
        "id": "yD5ncB7O3cWU"
      },
      "execution_count": 14,
      "outputs": []
    },
    {
      "cell_type": "code",
      "source": [
        "train_dataset = train_dataset.map(preprocess_data).shuffle(1000).batch(batch_size)\n",
        "test_dataset = test_dataset.map(preprocess_data).batch(batch_size)"
      ],
      "metadata": {
        "id": "Wvvuf8dQ66eA"
      },
      "execution_count": 15,
      "outputs": []
    },
    {
      "cell_type": "markdown",
      "source": [
        "### Load Model"
      ],
      "metadata": {
        "id": "tBTJX2Ng0ZI_"
      }
    },
    {
      "cell_type": "code",
      "source": [
        "feature_extractor = tf.keras.applications.ResNet50(\n",
        "    include_top=False,\n",
        "    weights='imagenet',\n",
        "    input_tensor=input_tensor\n",
        ")"
      ],
      "metadata": {
        "id": "RF3ZJYBl0euO"
      },
      "execution_count": 16,
      "outputs": []
    },
    {
      "cell_type": "code",
      "source": [
        "# Freeze all layers\n",
        "# feature_extractor.trainable = False"
      ],
      "metadata": {
        "id": "PvA3Gsct4ELy"
      },
      "execution_count": 17,
      "outputs": []
    },
    {
      "cell_type": "code",
      "source": [
        "# Freeze layers exept last block\n",
        "for layer in feature_extractor.layers[:143]:\n",
        "  layer.trainable = False"
      ],
      "metadata": {
        "id": "NPn7L3j6BY-M"
      },
      "execution_count": 18,
      "outputs": []
    },
    {
      "cell_type": "markdown",
      "source": [
        "### Make Model"
      ],
      "metadata": {
        "id": "ymIGpl5q2e6f"
      }
    },
    {
      "cell_type": "code",
      "source": [
        "model = tf.keras.models.Sequential()"
      ],
      "metadata": {
        "id": "4MUgrSthDKly"
      },
      "execution_count": 19,
      "outputs": []
    },
    {
      "cell_type": "code",
      "source": [
        "# # Data augmentation\n",
        "# data_augment = tf.keras.models.Sequential([\n",
        "#     layers.RandomRotation(0.1, seed=42),\n",
        "#     layers.RandomTranslation(0.1, 0.1, seed=42),\n",
        "#     layers.RandomZoom(0.1, seed=42)\n",
        "#     # layers.RandomFlip(seed=42)\n",
        "# ])\n",
        "\n",
        "# data_augment.build(input_shape=input_tensor.shape[1:])\n",
        "\n",
        "# model.add(data_augment)"
      ],
      "metadata": {
        "id": "Yk6UdcLrDH3q"
      },
      "execution_count": 20,
      "outputs": []
    },
    {
      "cell_type": "code",
      "source": [
        "# Feature extraction\n",
        "model.add(feature_extractor)\n",
        "\n",
        "# Classification\n",
        "model.add(tf.keras.layers.Flatten())\n",
        "# model.add(tf.keras.layers.Dense(512, activation='relu'))\n",
        "model.add(tf.keras.layers.Dense(categories, activation='softmax'))"
      ],
      "metadata": {
        "id": "5ROhryUo2hYP"
      },
      "execution_count": 21,
      "outputs": []
    },
    {
      "cell_type": "code",
      "source": [
        "# model.build(input_shape=input_tensor.shape)"
      ],
      "metadata": {
        "id": "UYojHKtSE7lL"
      },
      "execution_count": 22,
      "outputs": []
    },
    {
      "cell_type": "markdown",
      "source": [
        "### Compile and Fit"
      ],
      "metadata": {
        "id": "Ox2ejT175ACS"
      }
    },
    {
      "cell_type": "code",
      "source": [
        "model.compile(\n",
        "    loss='categorical_crossentropy',\n",
        "    optimizer=tf.keras.optimizers.RMSprop(lr=2e-5),\n",
        "    metrics=['accuracy'])\n",
        "\n",
        "model.summary()"
      ],
      "metadata": {
        "colab": {
          "base_uri": "https://localhost:8080/"
        },
        "id": "tpsPLRth5CxX",
        "outputId": "3631df7b-0ed0-4e8a-d9e1-fa82768415a6"
      },
      "execution_count": 23,
      "outputs": [
        {
          "output_type": "stream",
          "name": "stderr",
          "text": [
            "WARNING:absl:`lr` is deprecated in Keras optimizer, please use `learning_rate` or use the legacy optimizer, e.g.,tf.keras.optimizers.legacy.RMSprop.\n"
          ]
        },
        {
          "output_type": "stream",
          "name": "stdout",
          "text": [
            "Model: \"sequential\"\n",
            "_________________________________________________________________\n",
            " Layer (type)                Output Shape              Param #   \n",
            "=================================================================\n",
            " resnet50 (Functional)       (None, 1, 1, 2048)        23587712  \n",
            "                                                                 \n",
            " flatten (Flatten)           (None, 2048)              0         \n",
            "                                                                 \n",
            " dense (Dense)               (None, 26)                53274     \n",
            "                                                                 \n",
            "=================================================================\n",
            "Total params: 23640986 (90.18 MB)\n",
            "Trainable params: 15029274 (57.33 MB)\n",
            "Non-trainable params: 8611712 (32.85 MB)\n",
            "_________________________________________________________________\n"
          ]
        }
      ]
    },
    {
      "cell_type": "code",
      "source": [
        "save_model = tf.keras.callbacks.ModelCheckpoint(\n",
        "    filepath='model.h5',\n",
        "    monitor='val_accuracy',\n",
        "    mode='max',\n",
        "    save_best_only=True,\n",
        "    verbose=1\n",
        ")"
      ],
      "metadata": {
        "id": "JXAjHyt21_tg"
      },
      "execution_count": 24,
      "outputs": []
    },
    {
      "cell_type": "code",
      "source": [
        "run_hist = model.fit(train_dataset, batch_size=batch_size, epochs=epochs,\n",
        "                    validation_data=test_dataset, callbacks=[save_model])"
      ],
      "metadata": {
        "colab": {
          "base_uri": "https://localhost:8080/"
        },
        "id": "3gnlRPJd5ixD",
        "outputId": "808d9c08-a051-4b14-8498-ca14d9c93f93"
      },
      "execution_count": 25,
      "outputs": [
        {
          "output_type": "stream",
          "name": "stdout",
          "text": [
            "Epoch 1/50\n",
            "858/858 [==============================] - ETA: 0s - loss: 0.3272 - accuracy: 0.9487\n",
            "Epoch 1: val_accuracy improved from -inf to 0.94186, saving model to model.h5\n"
          ]
        },
        {
          "output_type": "stream",
          "name": "stderr",
          "text": [
            "/usr/local/lib/python3.10/dist-packages/keras/src/engine/training.py:3079: UserWarning: You are saving your model as an HDF5 file via `model.save()`. This file format is considered legacy. We recommend using instead the native Keras format, e.g. `model.save('my_model.keras')`.\n",
            "  saving_api.save_model(\n"
          ]
        },
        {
          "output_type": "stream",
          "name": "stdout",
          "text": [
            "\b\b\b\b\b\b\b\b\b\b\b\b\b\b\b\b\b\b\b\b\b\b\b\b\b\b\b\b\b\b\b\b\b\b\b\b\b\b\b\b\b\b\b\b\b\b\b\b\b\b\b\b\b\b\b\b\b\b\b\b\b\b\b\b\b\b\b\b\b\b\b\b\b\b\b\b\b\b\b\b\b\b\b\b\r858/858 [==============================] - 38s 33ms/step - loss: 0.3272 - accuracy: 0.9487 - val_loss: 0.2110 - val_accuracy: 0.9419\n",
            "Epoch 2/50\n",
            "856/858 [============================>.] - ETA: 0s - loss: 0.0577 - accuracy: 0.9953\n",
            "Epoch 2: val_accuracy improved from 0.94186 to 0.95148, saving model to model.h5\n",
            "858/858 [==============================] - 24s 28ms/step - loss: 0.0578 - accuracy: 0.9953 - val_loss: 0.2124 - val_accuracy: 0.9515\n",
            "Epoch 3/50\n",
            "857/858 [============================>.] - ETA: 0s - loss: 0.0316 - accuracy: 0.9970\n",
            "Epoch 3: val_accuracy improved from 0.95148 to 0.95664, saving model to model.h5\n",
            "858/858 [==============================] - 25s 29ms/step - loss: 0.0315 - accuracy: 0.9970 - val_loss: 0.2227 - val_accuracy: 0.9566\n",
            "Epoch 4/50\n",
            "857/858 [============================>.] - ETA: 0s - loss: 0.0138 - accuracy: 0.9983\n",
            "Epoch 4: val_accuracy improved from 0.95664 to 0.95747, saving model to model.h5\n",
            "858/858 [==============================] - 26s 30ms/step - loss: 0.0138 - accuracy: 0.9983 - val_loss: 0.2311 - val_accuracy: 0.9575\n",
            "Epoch 5/50\n",
            "857/858 [============================>.] - ETA: 0s - loss: 0.0130 - accuracy: 0.9991\n",
            "Epoch 5: val_accuracy improved from 0.95747 to 0.96110, saving model to model.h5\n",
            "858/858 [==============================] - 24s 28ms/step - loss: 0.0130 - accuracy: 0.9991 - val_loss: 0.1527 - val_accuracy: 0.9611\n",
            "Epoch 6/50\n",
            "858/858 [==============================] - ETA: 0s - loss: 0.0150 - accuracy: 0.9985\n",
            "Epoch 6: val_accuracy did not improve from 0.96110\n",
            "858/858 [==============================] - 23s 26ms/step - loss: 0.0150 - accuracy: 0.9985 - val_loss: 0.1845 - val_accuracy: 0.9587\n",
            "Epoch 7/50\n",
            "857/858 [============================>.] - ETA: 0s - loss: 0.0061 - accuracy: 0.9991\n",
            "Epoch 7: val_accuracy improved from 0.96110 to 0.96612, saving model to model.h5\n",
            "858/858 [==============================] - 26s 30ms/step - loss: 0.0061 - accuracy: 0.9991 - val_loss: 0.1577 - val_accuracy: 0.9661\n",
            "Epoch 8/50\n",
            "857/858 [============================>.] - ETA: 0s - loss: 0.0013 - accuracy: 0.9997\n",
            "Epoch 8: val_accuracy improved from 0.96612 to 0.96974, saving model to model.h5\n",
            "858/858 [==============================] - 26s 30ms/step - loss: 0.0013 - accuracy: 0.9997 - val_loss: 0.1473 - val_accuracy: 0.9697\n",
            "Epoch 9/50\n",
            "856/858 [============================>.] - ETA: 0s - loss: 0.0055 - accuracy: 0.9993\n",
            "Epoch 9: val_accuracy did not improve from 0.96974\n",
            "858/858 [==============================] - 25s 29ms/step - loss: 0.0056 - accuracy: 0.9992 - val_loss: 0.2154 - val_accuracy: 0.9607\n",
            "Epoch 10/50\n",
            "858/858 [==============================] - ETA: 0s - loss: 0.0105 - accuracy: 0.9992\n",
            "Epoch 10: val_accuracy did not improve from 0.96974\n",
            "858/858 [==============================] - 23s 26ms/step - loss: 0.0105 - accuracy: 0.9992 - val_loss: 0.1607 - val_accuracy: 0.9607\n",
            "Epoch 11/50\n",
            "857/858 [============================>.] - ETA: 0s - loss: 0.0077 - accuracy: 0.9994\n",
            "Epoch 11: val_accuracy did not improve from 0.96974\n",
            "858/858 [==============================] - 23s 27ms/step - loss: 0.0077 - accuracy: 0.9994 - val_loss: 0.1385 - val_accuracy: 0.9646\n",
            "Epoch 12/50\n",
            "857/858 [============================>.] - ETA: 0s - loss: 0.0043 - accuracy: 0.9997\n",
            "Epoch 12: val_accuracy did not improve from 0.96974\n",
            "858/858 [==============================] - 23s 27ms/step - loss: 0.0043 - accuracy: 0.9997 - val_loss: 0.1810 - val_accuracy: 0.9667\n",
            "Epoch 13/50\n",
            "856/858 [============================>.] - ETA: 0s - loss: 0.0044 - accuracy: 0.9995\n",
            "Epoch 13: val_accuracy improved from 0.96974 to 0.97086, saving model to model.h5\n",
            "858/858 [==============================] - 24s 27ms/step - loss: 0.0043 - accuracy: 0.9995 - val_loss: 0.1313 - val_accuracy: 0.9709\n",
            "Epoch 14/50\n",
            "856/858 [============================>.] - ETA: 0s - loss: 0.0011 - accuracy: 0.9999\n",
            "Epoch 14: val_accuracy improved from 0.97086 to 0.97225, saving model to model.h5\n",
            "858/858 [==============================] - 29s 34ms/step - loss: 0.0011 - accuracy: 0.9999 - val_loss: 0.1318 - val_accuracy: 0.9723\n",
            "Epoch 15/50\n",
            "856/858 [============================>.] - ETA: 0s - loss: 7.5209e-04 - accuracy: 0.9999\n",
            "Epoch 15: val_accuracy did not improve from 0.97225\n",
            "858/858 [==============================] - 23s 27ms/step - loss: 7.5042e-04 - accuracy: 0.9999 - val_loss: 0.1446 - val_accuracy: 0.9690\n",
            "Epoch 16/50\n",
            "857/858 [============================>.] - ETA: 0s - loss: 0.0065 - accuracy: 0.9995\n",
            "Epoch 16: val_accuracy did not improve from 0.97225\n",
            "858/858 [==============================] - 22s 26ms/step - loss: 0.0065 - accuracy: 0.9995 - val_loss: 0.1777 - val_accuracy: 0.9610\n",
            "Epoch 17/50\n",
            "857/858 [============================>.] - ETA: 0s - loss: 0.0011 - accuracy: 0.9998\n",
            "Epoch 17: val_accuracy did not improve from 0.97225\n",
            "858/858 [==============================] - 23s 27ms/step - loss: 0.0011 - accuracy: 0.9998 - val_loss: 0.1567 - val_accuracy: 0.9675\n",
            "Epoch 18/50\n",
            "856/858 [============================>.] - ETA: 0s - loss: 0.0013 - accuracy: 0.9998\n",
            "Epoch 18: val_accuracy did not improve from 0.97225\n",
            "858/858 [==============================] - 23s 26ms/step - loss: 0.0013 - accuracy: 0.9998 - val_loss: 0.2245 - val_accuracy: 0.9626\n",
            "Epoch 19/50\n",
            "856/858 [============================>.] - ETA: 0s - loss: 0.0040 - accuracy: 0.9996\n",
            "Epoch 19: val_accuracy did not improve from 0.97225\n",
            "858/858 [==============================] - 23s 27ms/step - loss: 0.0040 - accuracy: 0.9996 - val_loss: 0.1808 - val_accuracy: 0.9643\n",
            "Epoch 20/50\n",
            "857/858 [============================>.] - ETA: 0s - loss: 0.0039 - accuracy: 0.9997\n",
            "Epoch 20: val_accuracy did not improve from 0.97225\n",
            "858/858 [==============================] - 23s 27ms/step - loss: 0.0039 - accuracy: 0.9997 - val_loss: 0.1851 - val_accuracy: 0.9651\n",
            "Epoch 21/50\n",
            "858/858 [==============================] - ETA: 0s - loss: 0.0023 - accuracy: 0.9997\n",
            "Epoch 21: val_accuracy did not improve from 0.97225\n",
            "858/858 [==============================] - 23s 27ms/step - loss: 0.0023 - accuracy: 0.9997 - val_loss: 0.1940 - val_accuracy: 0.9696\n",
            "Epoch 22/50\n",
            "857/858 [============================>.] - ETA: 0s - loss: 0.0057 - accuracy: 0.9996\n",
            "Epoch 22: val_accuracy did not improve from 0.97225\n",
            "858/858 [==============================] - 23s 27ms/step - loss: 0.0057 - accuracy: 0.9996 - val_loss: 0.1891 - val_accuracy: 0.9636\n",
            "Epoch 23/50\n",
            "858/858 [==============================] - ETA: 0s - loss: 0.0017 - accuracy: 0.9997\n",
            "Epoch 23: val_accuracy did not improve from 0.97225\n",
            "858/858 [==============================] - 25s 29ms/step - loss: 0.0017 - accuracy: 0.9997 - val_loss: 0.1903 - val_accuracy: 0.9668\n",
            "Epoch 24/50\n",
            "856/858 [============================>.] - ETA: 0s - loss: 5.7018e-05 - accuracy: 1.0000\n",
            "Epoch 24: val_accuracy did not improve from 0.97225\n",
            "858/858 [==============================] - 25s 29ms/step - loss: 5.6895e-05 - accuracy: 1.0000 - val_loss: 0.1819 - val_accuracy: 0.9665\n",
            "Epoch 25/50\n",
            "858/858 [==============================] - ETA: 0s - loss: 6.4123e-04 - accuracy: 0.9999\n",
            "Epoch 25: val_accuracy did not improve from 0.97225\n",
            "858/858 [==============================] - 23s 27ms/step - loss: 6.4123e-04 - accuracy: 0.9999 - val_loss: 0.1857 - val_accuracy: 0.9667\n",
            "Epoch 26/50\n",
            "858/858 [==============================] - ETA: 0s - loss: 5.8451e-04 - accuracy: 0.9998\n",
            "Epoch 26: val_accuracy did not improve from 0.97225\n",
            "858/858 [==============================] - 23s 26ms/step - loss: 5.8451e-04 - accuracy: 0.9998 - val_loss: 0.1959 - val_accuracy: 0.9661\n",
            "Epoch 27/50\n",
            "856/858 [============================>.] - ETA: 0s - loss: 0.0055 - accuracy: 0.9996\n",
            "Epoch 27: val_accuracy did not improve from 0.97225\n",
            "858/858 [==============================] - 23s 27ms/step - loss: 0.0055 - accuracy: 0.9996 - val_loss: 0.2016 - val_accuracy: 0.9626\n",
            "Epoch 28/50\n",
            "858/858 [==============================] - ETA: 0s - loss: 0.0017 - accuracy: 0.9997\n",
            "Epoch 28: val_accuracy did not improve from 0.97225\n",
            "858/858 [==============================] - 26s 30ms/step - loss: 0.0017 - accuracy: 0.9997 - val_loss: 0.1949 - val_accuracy: 0.9631\n",
            "Epoch 29/50\n",
            "858/858 [==============================] - ETA: 0s - loss: 0.0026 - accuracy: 0.9997\n",
            "Epoch 29: val_accuracy did not improve from 0.97225\n",
            "858/858 [==============================] - 26s 30ms/step - loss: 0.0026 - accuracy: 0.9997 - val_loss: 0.1695 - val_accuracy: 0.9660\n",
            "Epoch 30/50\n",
            "858/858 [==============================] - ETA: 0s - loss: 0.0014 - accuracy: 0.9999\n",
            "Epoch 30: val_accuracy did not improve from 0.97225\n",
            "858/858 [==============================] - 25s 29ms/step - loss: 0.0014 - accuracy: 0.9999 - val_loss: 0.1764 - val_accuracy: 0.9656\n",
            "Epoch 31/50\n",
            "857/858 [============================>.] - ETA: 0s - loss: 0.0019 - accuracy: 0.9998\n",
            "Epoch 31: val_accuracy did not improve from 0.97225\n",
            "858/858 [==============================] - 23s 26ms/step - loss: 0.0019 - accuracy: 0.9998 - val_loss: 0.2027 - val_accuracy: 0.9642\n",
            "Epoch 32/50\n",
            "856/858 [============================>.] - ETA: 0s - loss: 1.0809e-04 - accuracy: 0.9999\n",
            "Epoch 32: val_accuracy did not improve from 0.97225\n",
            "858/858 [==============================] - 23s 27ms/step - loss: 1.0785e-04 - accuracy: 0.9999 - val_loss: 0.1644 - val_accuracy: 0.9664\n",
            "Epoch 33/50\n",
            "856/858 [============================>.] - ETA: 0s - loss: 1.0823e-04 - accuracy: 1.0000\n",
            "Epoch 33: val_accuracy did not improve from 0.97225\n",
            "858/858 [==============================] - 25s 29ms/step - loss: 1.6385e-04 - accuracy: 0.9999 - val_loss: 0.1593 - val_accuracy: 0.9675\n",
            "Epoch 34/50\n",
            "856/858 [============================>.] - ETA: 0s - loss: 3.6325e-04 - accuracy: 0.9999\n",
            "Epoch 34: val_accuracy did not improve from 0.97225\n",
            "858/858 [==============================] - 25s 29ms/step - loss: 3.6242e-04 - accuracy: 0.9999 - val_loss: 0.1444 - val_accuracy: 0.9686\n",
            "Epoch 35/50\n",
            "857/858 [============================>.] - ETA: 0s - loss: 4.0971e-04 - accuracy: 0.9999\n",
            "Epoch 35: val_accuracy did not improve from 0.97225\n",
            "858/858 [==============================] - 23s 26ms/step - loss: 4.0925e-04 - accuracy: 0.9999 - val_loss: 0.1702 - val_accuracy: 0.9665\n",
            "Epoch 36/50\n",
            "856/858 [============================>.] - ETA: 0s - loss: 4.2330e-05 - accuracy: 1.0000\n",
            "Epoch 36: val_accuracy did not improve from 0.97225\n",
            "858/858 [==============================] - 23s 27ms/step - loss: 4.2249e-05 - accuracy: 1.0000 - val_loss: 0.1796 - val_accuracy: 0.9663\n",
            "Epoch 37/50\n",
            "858/858 [==============================] - ETA: 0s - loss: 3.0645e-05 - accuracy: 1.0000\n",
            "Epoch 37: val_accuracy did not improve from 0.97225\n",
            "858/858 [==============================] - 25s 29ms/step - loss: 3.0645e-05 - accuracy: 1.0000 - val_loss: 0.1535 - val_accuracy: 0.9695\n",
            "Epoch 38/50\n",
            "857/858 [============================>.] - ETA: 0s - loss: 8.9103e-04 - accuracy: 0.9999\n",
            "Epoch 38: val_accuracy did not improve from 0.97225\n",
            "858/858 [==============================] - 23s 27ms/step - loss: 8.9013e-04 - accuracy: 0.9999 - val_loss: 0.1767 - val_accuracy: 0.9632\n",
            "Epoch 39/50\n",
            "857/858 [============================>.] - ETA: 0s - loss: 9.5612e-04 - accuracy: 0.9998\n",
            "Epoch 39: val_accuracy did not improve from 0.97225\n",
            "858/858 [==============================] - 23s 27ms/step - loss: 9.5504e-04 - accuracy: 0.9998 - val_loss: 0.1603 - val_accuracy: 0.9674\n",
            "Epoch 40/50\n",
            "857/858 [============================>.] - ETA: 0s - loss: 0.0030 - accuracy: 0.9998\n",
            "Epoch 40: val_accuracy did not improve from 0.97225\n",
            "858/858 [==============================] - 25s 29ms/step - loss: 0.0030 - accuracy: 0.9998 - val_loss: 0.1570 - val_accuracy: 0.9657\n",
            "Epoch 41/50\n",
            "858/858 [==============================] - ETA: 0s - loss: 7.7948e-04 - accuracy: 0.9999\n",
            "Epoch 41: val_accuracy did not improve from 0.97225\n",
            "858/858 [==============================] - 22s 26ms/step - loss: 7.7948e-04 - accuracy: 0.9999 - val_loss: 0.2003 - val_accuracy: 0.9640\n",
            "Epoch 42/50\n",
            "857/858 [============================>.] - ETA: 0s - loss: 4.2056e-04 - accuracy: 0.9999\n",
            "Epoch 42: val_accuracy did not improve from 0.97225\n",
            "858/858 [==============================] - 23s 27ms/step - loss: 4.2009e-04 - accuracy: 0.9999 - val_loss: 0.1827 - val_accuracy: 0.9663\n",
            "Epoch 43/50\n",
            "857/858 [============================>.] - ETA: 0s - loss: 0.0013 - accuracy: 0.9999\n",
            "Epoch 43: val_accuracy did not improve from 0.97225\n",
            "858/858 [==============================] - 23s 27ms/step - loss: 0.0013 - accuracy: 0.9999 - val_loss: 0.1931 - val_accuracy: 0.9660\n",
            "Epoch 44/50\n",
            "857/858 [============================>.] - ETA: 0s - loss: 0.0012 - accuracy: 0.9999\n",
            "Epoch 44: val_accuracy did not improve from 0.97225\n",
            "858/858 [==============================] - 23s 26ms/step - loss: 0.0012 - accuracy: 0.9999 - val_loss: 0.1773 - val_accuracy: 0.9661\n",
            "Epoch 45/50\n",
            "858/858 [==============================] - ETA: 0s - loss: 6.4494e-04 - accuracy: 0.9999\n",
            "Epoch 45: val_accuracy did not improve from 0.97225\n",
            "858/858 [==============================] - 23s 27ms/step - loss: 6.4494e-04 - accuracy: 0.9999 - val_loss: 0.1559 - val_accuracy: 0.9709\n",
            "Epoch 46/50\n",
            "857/858 [============================>.] - ETA: 0s - loss: 0.0035 - accuracy: 0.9997\n",
            "Epoch 46: val_accuracy did not improve from 0.97225\n",
            "858/858 [==============================] - 23s 26ms/step - loss: 0.0035 - accuracy: 0.9997 - val_loss: 0.1594 - val_accuracy: 0.9706\n",
            "Epoch 47/50\n",
            "858/858 [==============================] - ETA: 0s - loss: 2.3256e-04 - accuracy: 0.9999\n",
            "Epoch 47: val_accuracy did not improve from 0.97225\n",
            "858/858 [==============================] - 23s 26ms/step - loss: 2.3256e-04 - accuracy: 0.9999 - val_loss: 0.1596 - val_accuracy: 0.9692\n",
            "Epoch 48/50\n",
            "857/858 [============================>.] - ETA: 0s - loss: 0.0022 - accuracy: 0.9999\n",
            "Epoch 48: val_accuracy did not improve from 0.97225\n",
            "858/858 [==============================] - 24s 27ms/step - loss: 0.0022 - accuracy: 0.9999 - val_loss: 0.1594 - val_accuracy: 0.9710\n",
            "Epoch 49/50\n",
            "857/858 [============================>.] - ETA: 0s - loss: 2.0422e-05 - accuracy: 1.0000\n",
            "Epoch 49: val_accuracy did not improve from 0.97225\n",
            "858/858 [==============================] - 23s 27ms/step - loss: 2.0401e-05 - accuracy: 1.0000 - val_loss: 0.1552 - val_accuracy: 0.9720\n",
            "Epoch 50/50\n",
            "856/858 [============================>.] - ETA: 0s - loss: 5.7932e-04 - accuracy: 0.9999\n",
            "Epoch 50: val_accuracy did not improve from 0.97225\n",
            "858/858 [==============================] - 23s 27ms/step - loss: 5.7805e-04 - accuracy: 0.9999 - val_loss: 0.1556 - val_accuracy: 0.9692\n"
          ]
        }
      ]
    },
    {
      "cell_type": "code",
      "source": [
        "import matplotlib.pyplot as plt\n",
        "\n",
        "# Plot accuracy and loss\n",
        "plt.plot(run_hist.history['accuracy'], label='train')\n",
        "plt.plot(run_hist.history['val_accuracy'], label='test')\n",
        "plt.plot(run_hist.history['loss'], label='loss')\n",
        "plt.xlabel('Epoch')\n",
        "plt.ylabel('Accuracy')\n",
        "plt.show()"
      ],
      "metadata": {
        "id": "nHuzxol46ERL",
        "colab": {
          "base_uri": "https://localhost:8080/",
          "height": 449
        },
        "outputId": "e818a8c6-0b3c-40a7-e82d-61b5f6f1e8f0"
      },
      "execution_count": 26,
      "outputs": [
        {
          "output_type": "display_data",
          "data": {
            "text/plain": [
              "<Figure size 640x480 with 1 Axes>"
            ],
            "image/png": "[encoded data removed]"
          },
          "metadata": {}
        }
      ]
    }
  ]
}